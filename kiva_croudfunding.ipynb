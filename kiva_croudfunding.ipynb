{
 "cells": [
  {
   "cell_type": "code",
   "execution_count": 36,
   "metadata": {},
   "outputs": [],
   "source": [
    "import pandas as pd\n",
    "import numpy as np\n",
    "import matplotlib.pyplot as plt\n",
    "from scipy import stats\n",
    "\n",
    "%matplotlib inline"
   ]
  },
  {
   "cell_type": "code",
   "execution_count": 3,
   "metadata": {},
   "outputs": [],
   "source": [
    "loan_df = pd.read_csv(\"data/kiva_loans.csv\")\n",
    "mpi_region_locations_df = pd.read_csv(\"data/kiva_mpi_region_locations.csv\")\n",
    "loan_theme_ids_df = pd.read_csv(\"data/loan_theme_ids.csv\")\n",
    "loan_themes_by_region_df = pd.read_csv(\"data/loan_themes_by_region.csv\")"
   ]
  },
  {
   "cell_type": "code",
   "execution_count": 4,
   "metadata": {},
   "outputs": [
    {
     "data": {
      "text/html": [
       "<div>\n",
       "<style scoped>\n",
       "    .dataframe tbody tr th:only-of-type {\n",
       "        vertical-align: middle;\n",
       "    }\n",
       "\n",
       "    .dataframe tbody tr th {\n",
       "        vertical-align: top;\n",
       "    }\n",
       "\n",
       "    .dataframe thead th {\n",
       "        text-align: right;\n",
       "    }\n",
       "</style>\n",
       "<table border=\"1\" class=\"dataframe\">\n",
       "  <thead>\n",
       "    <tr style=\"text-align: right;\">\n",
       "      <th></th>\n",
       "      <th>id</th>\n",
       "      <th>funded_amount</th>\n",
       "      <th>loan_amount</th>\n",
       "      <th>activity</th>\n",
       "      <th>sector</th>\n",
       "      <th>use</th>\n",
       "      <th>country_code</th>\n",
       "      <th>country</th>\n",
       "      <th>region</th>\n",
       "      <th>currency</th>\n",
       "      <th>partner_id</th>\n",
       "      <th>posted_time</th>\n",
       "      <th>disbursed_time</th>\n",
       "      <th>funded_time</th>\n",
       "      <th>term_in_months</th>\n",
       "      <th>lender_count</th>\n",
       "      <th>tags</th>\n",
       "      <th>borrower_genders</th>\n",
       "      <th>repayment_interval</th>\n",
       "      <th>date</th>\n",
       "    </tr>\n",
       "  </thead>\n",
       "  <tbody>\n",
       "    <tr>\n",
       "      <th>0</th>\n",
       "      <td>653051</td>\n",
       "      <td>300.0</td>\n",
       "      <td>300.0</td>\n",
       "      <td>Fruits &amp; Vegetables</td>\n",
       "      <td>Food</td>\n",
       "      <td>To buy seasonal, fresh fruits to sell.</td>\n",
       "      <td>PK</td>\n",
       "      <td>Pakistan</td>\n",
       "      <td>Lahore</td>\n",
       "      <td>PKR</td>\n",
       "      <td>247.0</td>\n",
       "      <td>2014-01-01 06:12:39+00:00</td>\n",
       "      <td>2013-12-17 08:00:00+00:00</td>\n",
       "      <td>2014-01-02 10:06:32+00:00</td>\n",
       "      <td>12.0</td>\n",
       "      <td>12</td>\n",
       "      <td>NaN</td>\n",
       "      <td>female</td>\n",
       "      <td>irregular</td>\n",
       "      <td>2014-01-01</td>\n",
       "    </tr>\n",
       "    <tr>\n",
       "      <th>1</th>\n",
       "      <td>653053</td>\n",
       "      <td>575.0</td>\n",
       "      <td>575.0</td>\n",
       "      <td>Rickshaw</td>\n",
       "      <td>Transportation</td>\n",
       "      <td>to repair and maintain the auto rickshaw used ...</td>\n",
       "      <td>PK</td>\n",
       "      <td>Pakistan</td>\n",
       "      <td>Lahore</td>\n",
       "      <td>PKR</td>\n",
       "      <td>247.0</td>\n",
       "      <td>2014-01-01 06:51:08+00:00</td>\n",
       "      <td>2013-12-17 08:00:00+00:00</td>\n",
       "      <td>2014-01-02 09:17:23+00:00</td>\n",
       "      <td>11.0</td>\n",
       "      <td>14</td>\n",
       "      <td>NaN</td>\n",
       "      <td>female, female</td>\n",
       "      <td>irregular</td>\n",
       "      <td>2014-01-01</td>\n",
       "    </tr>\n",
       "    <tr>\n",
       "      <th>2</th>\n",
       "      <td>653068</td>\n",
       "      <td>150.0</td>\n",
       "      <td>150.0</td>\n",
       "      <td>Transportation</td>\n",
       "      <td>Transportation</td>\n",
       "      <td>To repair their old cycle-van and buy another ...</td>\n",
       "      <td>IN</td>\n",
       "      <td>India</td>\n",
       "      <td>Maynaguri</td>\n",
       "      <td>INR</td>\n",
       "      <td>334.0</td>\n",
       "      <td>2014-01-01 09:58:07+00:00</td>\n",
       "      <td>2013-12-17 08:00:00+00:00</td>\n",
       "      <td>2014-01-01 16:01:36+00:00</td>\n",
       "      <td>43.0</td>\n",
       "      <td>6</td>\n",
       "      <td>user_favorite, user_favorite</td>\n",
       "      <td>female</td>\n",
       "      <td>bullet</td>\n",
       "      <td>2014-01-01</td>\n",
       "    </tr>\n",
       "    <tr>\n",
       "      <th>3</th>\n",
       "      <td>653063</td>\n",
       "      <td>200.0</td>\n",
       "      <td>200.0</td>\n",
       "      <td>Embroidery</td>\n",
       "      <td>Arts</td>\n",
       "      <td>to purchase an embroidery machine and a variet...</td>\n",
       "      <td>PK</td>\n",
       "      <td>Pakistan</td>\n",
       "      <td>Lahore</td>\n",
       "      <td>PKR</td>\n",
       "      <td>247.0</td>\n",
       "      <td>2014-01-01 08:03:11+00:00</td>\n",
       "      <td>2013-12-24 08:00:00+00:00</td>\n",
       "      <td>2014-01-01 13:00:00+00:00</td>\n",
       "      <td>11.0</td>\n",
       "      <td>8</td>\n",
       "      <td>NaN</td>\n",
       "      <td>female</td>\n",
       "      <td>irregular</td>\n",
       "      <td>2014-01-01</td>\n",
       "    </tr>\n",
       "    <tr>\n",
       "      <th>4</th>\n",
       "      <td>653084</td>\n",
       "      <td>400.0</td>\n",
       "      <td>400.0</td>\n",
       "      <td>Milk Sales</td>\n",
       "      <td>Food</td>\n",
       "      <td>to purchase one buffalo.</td>\n",
       "      <td>PK</td>\n",
       "      <td>Pakistan</td>\n",
       "      <td>Abdul Hakeem</td>\n",
       "      <td>PKR</td>\n",
       "      <td>245.0</td>\n",
       "      <td>2014-01-01 11:53:19+00:00</td>\n",
       "      <td>2013-12-17 08:00:00+00:00</td>\n",
       "      <td>2014-01-01 19:18:51+00:00</td>\n",
       "      <td>14.0</td>\n",
       "      <td>16</td>\n",
       "      <td>NaN</td>\n",
       "      <td>female</td>\n",
       "      <td>monthly</td>\n",
       "      <td>2014-01-01</td>\n",
       "    </tr>\n",
       "  </tbody>\n",
       "</table>\n",
       "</div>"
      ],
      "text/plain": [
       "       id  funded_amount  loan_amount             activity          sector  \\\n",
       "0  653051          300.0        300.0  Fruits & Vegetables            Food   \n",
       "1  653053          575.0        575.0             Rickshaw  Transportation   \n",
       "2  653068          150.0        150.0       Transportation  Transportation   \n",
       "3  653063          200.0        200.0           Embroidery            Arts   \n",
       "4  653084          400.0        400.0           Milk Sales            Food   \n",
       "\n",
       "                                                 use country_code   country  \\\n",
       "0            To buy seasonal, fresh fruits to sell.            PK  Pakistan   \n",
       "1  to repair and maintain the auto rickshaw used ...           PK  Pakistan   \n",
       "2  To repair their old cycle-van and buy another ...           IN     India   \n",
       "3  to purchase an embroidery machine and a variet...           PK  Pakistan   \n",
       "4                           to purchase one buffalo.           PK  Pakistan   \n",
       "\n",
       "         region currency  partner_id                posted_time  \\\n",
       "0        Lahore      PKR       247.0  2014-01-01 06:12:39+00:00   \n",
       "1        Lahore      PKR       247.0  2014-01-01 06:51:08+00:00   \n",
       "2     Maynaguri      INR       334.0  2014-01-01 09:58:07+00:00   \n",
       "3        Lahore      PKR       247.0  2014-01-01 08:03:11+00:00   \n",
       "4  Abdul Hakeem      PKR       245.0  2014-01-01 11:53:19+00:00   \n",
       "\n",
       "              disbursed_time                funded_time  term_in_months  \\\n",
       "0  2013-12-17 08:00:00+00:00  2014-01-02 10:06:32+00:00            12.0   \n",
       "1  2013-12-17 08:00:00+00:00  2014-01-02 09:17:23+00:00            11.0   \n",
       "2  2013-12-17 08:00:00+00:00  2014-01-01 16:01:36+00:00            43.0   \n",
       "3  2013-12-24 08:00:00+00:00  2014-01-01 13:00:00+00:00            11.0   \n",
       "4  2013-12-17 08:00:00+00:00  2014-01-01 19:18:51+00:00            14.0   \n",
       "\n",
       "   lender_count                          tags borrower_genders  \\\n",
       "0            12                           NaN           female   \n",
       "1            14                           NaN   female, female   \n",
       "2             6  user_favorite, user_favorite           female   \n",
       "3             8                           NaN           female   \n",
       "4            16                           NaN           female   \n",
       "\n",
       "  repayment_interval        date  \n",
       "0          irregular  2014-01-01  \n",
       "1          irregular  2014-01-01  \n",
       "2             bullet  2014-01-01  \n",
       "3          irregular  2014-01-01  \n",
       "4            monthly  2014-01-01  "
      ]
     },
     "execution_count": 4,
     "metadata": {},
     "output_type": "execute_result"
    }
   ],
   "source": [
    "loan_df.head()"
   ]
  },
  {
   "cell_type": "code",
   "execution_count": 5,
   "metadata": {},
   "outputs": [
    {
     "data": {
      "text/html": [
       "<div>\n",
       "<style scoped>\n",
       "    .dataframe tbody tr th:only-of-type {\n",
       "        vertical-align: middle;\n",
       "    }\n",
       "\n",
       "    .dataframe tbody tr th {\n",
       "        vertical-align: top;\n",
       "    }\n",
       "\n",
       "    .dataframe thead th {\n",
       "        text-align: right;\n",
       "    }\n",
       "</style>\n",
       "<table border=\"1\" class=\"dataframe\">\n",
       "  <thead>\n",
       "    <tr style=\"text-align: right;\">\n",
       "      <th></th>\n",
       "      <th>LocationName</th>\n",
       "      <th>ISO</th>\n",
       "      <th>country</th>\n",
       "      <th>region</th>\n",
       "      <th>world_region</th>\n",
       "      <th>MPI</th>\n",
       "      <th>geo</th>\n",
       "      <th>lat</th>\n",
       "      <th>lon</th>\n",
       "    </tr>\n",
       "  </thead>\n",
       "  <tbody>\n",
       "    <tr>\n",
       "      <th>0</th>\n",
       "      <td>Badakhshan, Afghanistan</td>\n",
       "      <td>AFG</td>\n",
       "      <td>Afghanistan</td>\n",
       "      <td>Badakhshan</td>\n",
       "      <td>South Asia</td>\n",
       "      <td>0.387</td>\n",
       "      <td>(36.7347725, 70.81199529999999)</td>\n",
       "      <td>36.734772</td>\n",
       "      <td>70.811995</td>\n",
       "    </tr>\n",
       "    <tr>\n",
       "      <th>1</th>\n",
       "      <td>Badghis, Afghanistan</td>\n",
       "      <td>AFG</td>\n",
       "      <td>Afghanistan</td>\n",
       "      <td>Badghis</td>\n",
       "      <td>South Asia</td>\n",
       "      <td>0.466</td>\n",
       "      <td>(35.1671339, 63.7695384)</td>\n",
       "      <td>35.167134</td>\n",
       "      <td>63.769538</td>\n",
       "    </tr>\n",
       "    <tr>\n",
       "      <th>2</th>\n",
       "      <td>Baghlan, Afghanistan</td>\n",
       "      <td>AFG</td>\n",
       "      <td>Afghanistan</td>\n",
       "      <td>Baghlan</td>\n",
       "      <td>South Asia</td>\n",
       "      <td>0.300</td>\n",
       "      <td>(35.8042947, 69.2877535)</td>\n",
       "      <td>35.804295</td>\n",
       "      <td>69.287754</td>\n",
       "    </tr>\n",
       "    <tr>\n",
       "      <th>3</th>\n",
       "      <td>Balkh, Afghanistan</td>\n",
       "      <td>AFG</td>\n",
       "      <td>Afghanistan</td>\n",
       "      <td>Balkh</td>\n",
       "      <td>South Asia</td>\n",
       "      <td>0.301</td>\n",
       "      <td>(36.7550603, 66.8975372)</td>\n",
       "      <td>36.755060</td>\n",
       "      <td>66.897537</td>\n",
       "    </tr>\n",
       "    <tr>\n",
       "      <th>4</th>\n",
       "      <td>Bamyan, Afghanistan</td>\n",
       "      <td>AFG</td>\n",
       "      <td>Afghanistan</td>\n",
       "      <td>Bamyan</td>\n",
       "      <td>South Asia</td>\n",
       "      <td>0.325</td>\n",
       "      <td>(34.8100067, 67.8212104)</td>\n",
       "      <td>34.810007</td>\n",
       "      <td>67.821210</td>\n",
       "    </tr>\n",
       "  </tbody>\n",
       "</table>\n",
       "</div>"
      ],
      "text/plain": [
       "              LocationName  ISO      country      region world_region    MPI  \\\n",
       "0  Badakhshan, Afghanistan  AFG  Afghanistan  Badakhshan   South Asia  0.387   \n",
       "1     Badghis, Afghanistan  AFG  Afghanistan     Badghis   South Asia  0.466   \n",
       "2     Baghlan, Afghanistan  AFG  Afghanistan     Baghlan   South Asia  0.300   \n",
       "3       Balkh, Afghanistan  AFG  Afghanistan       Balkh   South Asia  0.301   \n",
       "4      Bamyan, Afghanistan  AFG  Afghanistan      Bamyan   South Asia  0.325   \n",
       "\n",
       "                               geo        lat        lon  \n",
       "0  (36.7347725, 70.81199529999999)  36.734772  70.811995  \n",
       "1         (35.1671339, 63.7695384)  35.167134  63.769538  \n",
       "2         (35.8042947, 69.2877535)  35.804295  69.287754  \n",
       "3         (36.7550603, 66.8975372)  36.755060  66.897537  \n",
       "4         (34.8100067, 67.8212104)  34.810007  67.821210  "
      ]
     },
     "execution_count": 5,
     "metadata": {},
     "output_type": "execute_result"
    }
   ],
   "source": [
    "mpi_region_locations_df.head()"
   ]
  },
  {
   "cell_type": "code",
   "execution_count": 6,
   "metadata": {},
   "outputs": [
    {
     "data": {
      "text/html": [
       "<div>\n",
       "<style scoped>\n",
       "    .dataframe tbody tr th:only-of-type {\n",
       "        vertical-align: middle;\n",
       "    }\n",
       "\n",
       "    .dataframe tbody tr th {\n",
       "        vertical-align: top;\n",
       "    }\n",
       "\n",
       "    .dataframe thead th {\n",
       "        text-align: right;\n",
       "    }\n",
       "</style>\n",
       "<table border=\"1\" class=\"dataframe\">\n",
       "  <thead>\n",
       "    <tr style=\"text-align: right;\">\n",
       "      <th></th>\n",
       "      <th>id</th>\n",
       "      <th>Loan Theme ID</th>\n",
       "      <th>Loan Theme Type</th>\n",
       "      <th>Partner ID</th>\n",
       "    </tr>\n",
       "  </thead>\n",
       "  <tbody>\n",
       "    <tr>\n",
       "      <th>0</th>\n",
       "      <td>638631</td>\n",
       "      <td>a1050000000skGl</td>\n",
       "      <td>General</td>\n",
       "      <td>151.0</td>\n",
       "    </tr>\n",
       "    <tr>\n",
       "      <th>1</th>\n",
       "      <td>640322</td>\n",
       "      <td>a1050000000skGl</td>\n",
       "      <td>General</td>\n",
       "      <td>151.0</td>\n",
       "    </tr>\n",
       "    <tr>\n",
       "      <th>2</th>\n",
       "      <td>641006</td>\n",
       "      <td>a1050000002X1ij</td>\n",
       "      <td>Higher Education</td>\n",
       "      <td>160.0</td>\n",
       "    </tr>\n",
       "    <tr>\n",
       "      <th>3</th>\n",
       "      <td>641019</td>\n",
       "      <td>a1050000002X1ij</td>\n",
       "      <td>Higher Education</td>\n",
       "      <td>160.0</td>\n",
       "    </tr>\n",
       "    <tr>\n",
       "      <th>4</th>\n",
       "      <td>641594</td>\n",
       "      <td>a1050000002VbsW</td>\n",
       "      <td>Subsistence Agriculture</td>\n",
       "      <td>336.0</td>\n",
       "    </tr>\n",
       "  </tbody>\n",
       "</table>\n",
       "</div>"
      ],
      "text/plain": [
       "       id    Loan Theme ID          Loan Theme Type  Partner ID\n",
       "0  638631  a1050000000skGl                  General       151.0\n",
       "1  640322  a1050000000skGl                  General       151.0\n",
       "2  641006  a1050000002X1ij         Higher Education       160.0\n",
       "3  641019  a1050000002X1ij         Higher Education       160.0\n",
       "4  641594  a1050000002VbsW  Subsistence Agriculture       336.0"
      ]
     },
     "execution_count": 6,
     "metadata": {},
     "output_type": "execute_result"
    }
   ],
   "source": [
    "loan_theme_ids_df.head()"
   ]
  },
  {
   "cell_type": "code",
   "execution_count": 7,
   "metadata": {},
   "outputs": [
    {
     "data": {
      "text/html": [
       "<div>\n",
       "<style scoped>\n",
       "    .dataframe tbody tr th:only-of-type {\n",
       "        vertical-align: middle;\n",
       "    }\n",
       "\n",
       "    .dataframe tbody tr th {\n",
       "        vertical-align: top;\n",
       "    }\n",
       "\n",
       "    .dataframe thead th {\n",
       "        text-align: right;\n",
       "    }\n",
       "</style>\n",
       "<table border=\"1\" class=\"dataframe\">\n",
       "  <thead>\n",
       "    <tr style=\"text-align: right;\">\n",
       "      <th></th>\n",
       "      <th>Partner ID</th>\n",
       "      <th>Field Partner Name</th>\n",
       "      <th>sector</th>\n",
       "      <th>Loan Theme ID</th>\n",
       "      <th>Loan Theme Type</th>\n",
       "      <th>country</th>\n",
       "      <th>forkiva</th>\n",
       "      <th>region</th>\n",
       "      <th>geocode_old</th>\n",
       "      <th>ISO</th>\n",
       "      <th>...</th>\n",
       "      <th>amount</th>\n",
       "      <th>LocationName</th>\n",
       "      <th>geocode</th>\n",
       "      <th>names</th>\n",
       "      <th>geo</th>\n",
       "      <th>lat</th>\n",
       "      <th>lon</th>\n",
       "      <th>mpi_region</th>\n",
       "      <th>mpi_geo</th>\n",
       "      <th>rural_pct</th>\n",
       "    </tr>\n",
       "  </thead>\n",
       "  <tbody>\n",
       "    <tr>\n",
       "      <th>0</th>\n",
       "      <td>9</td>\n",
       "      <td>KREDIT Microfinance Institution</td>\n",
       "      <td>General Financial Inclusion</td>\n",
       "      <td>a1050000000slfi</td>\n",
       "      <td>Higher Education</td>\n",
       "      <td>Cambodia</td>\n",
       "      <td>No</td>\n",
       "      <td>Banteay Meanchey</td>\n",
       "      <td>(13.75, 103.0)</td>\n",
       "      <td>KHM</td>\n",
       "      <td>...</td>\n",
       "      <td>450</td>\n",
       "      <td>Banteay Meanchey, Cambodia</td>\n",
       "      <td>[(13.6672596, 102.8975098)]</td>\n",
       "      <td>Banteay Meanchey Province; Cambodia</td>\n",
       "      <td>(13.6672596, 102.8975098)</td>\n",
       "      <td>13.667260</td>\n",
       "      <td>102.897510</td>\n",
       "      <td>Banteay Mean Chey, Cambodia</td>\n",
       "      <td>(13.6672596, 102.8975098)</td>\n",
       "      <td>90.0</td>\n",
       "    </tr>\n",
       "    <tr>\n",
       "      <th>1</th>\n",
       "      <td>9</td>\n",
       "      <td>KREDIT Microfinance Institution</td>\n",
       "      <td>General Financial Inclusion</td>\n",
       "      <td>a10500000068jPe</td>\n",
       "      <td>Vulnerable Populations</td>\n",
       "      <td>Cambodia</td>\n",
       "      <td>No</td>\n",
       "      <td>Battambang Province</td>\n",
       "      <td>NaN</td>\n",
       "      <td>KHM</td>\n",
       "      <td>...</td>\n",
       "      <td>20275</td>\n",
       "      <td>Battambang Province, Cambodia</td>\n",
       "      <td>[(13.0286971, 102.989615)]</td>\n",
       "      <td>Battambang Province; Cambodia</td>\n",
       "      <td>(13.0286971, 102.989615)</td>\n",
       "      <td>13.028697</td>\n",
       "      <td>102.989615</td>\n",
       "      <td>Banteay Mean Chey, Cambodia</td>\n",
       "      <td>(13.6672596, 102.8975098)</td>\n",
       "      <td>90.0</td>\n",
       "    </tr>\n",
       "    <tr>\n",
       "      <th>2</th>\n",
       "      <td>9</td>\n",
       "      <td>KREDIT Microfinance Institution</td>\n",
       "      <td>General Financial Inclusion</td>\n",
       "      <td>a1050000000slfi</td>\n",
       "      <td>Higher Education</td>\n",
       "      <td>Cambodia</td>\n",
       "      <td>No</td>\n",
       "      <td>Battambang Province</td>\n",
       "      <td>NaN</td>\n",
       "      <td>KHM</td>\n",
       "      <td>...</td>\n",
       "      <td>9150</td>\n",
       "      <td>Battambang Province, Cambodia</td>\n",
       "      <td>[(13.0286971, 102.989615)]</td>\n",
       "      <td>Battambang Province; Cambodia</td>\n",
       "      <td>(13.0286971, 102.989615)</td>\n",
       "      <td>13.028697</td>\n",
       "      <td>102.989615</td>\n",
       "      <td>Banteay Mean Chey, Cambodia</td>\n",
       "      <td>(13.6672596, 102.8975098)</td>\n",
       "      <td>90.0</td>\n",
       "    </tr>\n",
       "    <tr>\n",
       "      <th>3</th>\n",
       "      <td>9</td>\n",
       "      <td>KREDIT Microfinance Institution</td>\n",
       "      <td>General Financial Inclusion</td>\n",
       "      <td>a10500000068jPe</td>\n",
       "      <td>Vulnerable Populations</td>\n",
       "      <td>Cambodia</td>\n",
       "      <td>No</td>\n",
       "      <td>Kampong Cham Province</td>\n",
       "      <td>(12.0, 105.5)</td>\n",
       "      <td>KHM</td>\n",
       "      <td>...</td>\n",
       "      <td>604950</td>\n",
       "      <td>Kampong Cham Province, Cambodia</td>\n",
       "      <td>[(12.0982918, 105.3131185)]</td>\n",
       "      <td>Kampong Cham Province; Cambodia</td>\n",
       "      <td>(12.0982918, 105.3131185)</td>\n",
       "      <td>12.098292</td>\n",
       "      <td>105.313119</td>\n",
       "      <td>Kampong Cham, Cambodia</td>\n",
       "      <td>(11.9924294, 105.4645408)</td>\n",
       "      <td>90.0</td>\n",
       "    </tr>\n",
       "    <tr>\n",
       "      <th>4</th>\n",
       "      <td>9</td>\n",
       "      <td>KREDIT Microfinance Institution</td>\n",
       "      <td>General Financial Inclusion</td>\n",
       "      <td>a1050000002X1Uu</td>\n",
       "      <td>Sanitation</td>\n",
       "      <td>Cambodia</td>\n",
       "      <td>No</td>\n",
       "      <td>Kampong Cham Province</td>\n",
       "      <td>(12.0, 105.5)</td>\n",
       "      <td>KHM</td>\n",
       "      <td>...</td>\n",
       "      <td>275</td>\n",
       "      <td>Kampong Cham Province, Cambodia</td>\n",
       "      <td>[(12.0982918, 105.3131185)]</td>\n",
       "      <td>Kampong Cham Province; Cambodia</td>\n",
       "      <td>(12.0982918, 105.3131185)</td>\n",
       "      <td>12.098292</td>\n",
       "      <td>105.313119</td>\n",
       "      <td>Kampong Cham, Cambodia</td>\n",
       "      <td>(11.9924294, 105.4645408)</td>\n",
       "      <td>90.0</td>\n",
       "    </tr>\n",
       "  </tbody>\n",
       "</table>\n",
       "<p>5 rows × 21 columns</p>\n",
       "</div>"
      ],
      "text/plain": [
       "   Partner ID               Field Partner Name                       sector  \\\n",
       "0           9  KREDIT Microfinance Institution  General Financial Inclusion   \n",
       "1           9  KREDIT Microfinance Institution  General Financial Inclusion   \n",
       "2           9  KREDIT Microfinance Institution  General Financial Inclusion   \n",
       "3           9  KREDIT Microfinance Institution  General Financial Inclusion   \n",
       "4           9  KREDIT Microfinance Institution  General Financial Inclusion   \n",
       "\n",
       "     Loan Theme ID         Loan Theme Type   country forkiva  \\\n",
       "0  a1050000000slfi        Higher Education  Cambodia      No   \n",
       "1  a10500000068jPe  Vulnerable Populations  Cambodia      No   \n",
       "2  a1050000000slfi        Higher Education  Cambodia      No   \n",
       "3  a10500000068jPe  Vulnerable Populations  Cambodia      No   \n",
       "4  a1050000002X1Uu              Sanitation  Cambodia      No   \n",
       "\n",
       "                  region     geocode_old  ISO  ...  amount  \\\n",
       "0       Banteay Meanchey  (13.75, 103.0)  KHM  ...     450   \n",
       "1    Battambang Province             NaN  KHM  ...   20275   \n",
       "2    Battambang Province             NaN  KHM  ...    9150   \n",
       "3  Kampong Cham Province   (12.0, 105.5)  KHM  ...  604950   \n",
       "4  Kampong Cham Province   (12.0, 105.5)  KHM  ...     275   \n",
       "\n",
       "                      LocationName                      geocode  \\\n",
       "0       Banteay Meanchey, Cambodia  [(13.6672596, 102.8975098)]   \n",
       "1    Battambang Province, Cambodia   [(13.0286971, 102.989615)]   \n",
       "2    Battambang Province, Cambodia   [(13.0286971, 102.989615)]   \n",
       "3  Kampong Cham Province, Cambodia  [(12.0982918, 105.3131185)]   \n",
       "4  Kampong Cham Province, Cambodia  [(12.0982918, 105.3131185)]   \n",
       "\n",
       "                                 names                        geo        lat  \\\n",
       "0  Banteay Meanchey Province; Cambodia  (13.6672596, 102.8975098)  13.667260   \n",
       "1        Battambang Province; Cambodia   (13.0286971, 102.989615)  13.028697   \n",
       "2        Battambang Province; Cambodia   (13.0286971, 102.989615)  13.028697   \n",
       "3      Kampong Cham Province; Cambodia  (12.0982918, 105.3131185)  12.098292   \n",
       "4      Kampong Cham Province; Cambodia  (12.0982918, 105.3131185)  12.098292   \n",
       "\n",
       "          lon                   mpi_region                    mpi_geo  \\\n",
       "0  102.897510  Banteay Mean Chey, Cambodia  (13.6672596, 102.8975098)   \n",
       "1  102.989615  Banteay Mean Chey, Cambodia  (13.6672596, 102.8975098)   \n",
       "2  102.989615  Banteay Mean Chey, Cambodia  (13.6672596, 102.8975098)   \n",
       "3  105.313119       Kampong Cham, Cambodia  (11.9924294, 105.4645408)   \n",
       "4  105.313119       Kampong Cham, Cambodia  (11.9924294, 105.4645408)   \n",
       "\n",
       "  rural_pct  \n",
       "0      90.0  \n",
       "1      90.0  \n",
       "2      90.0  \n",
       "3      90.0  \n",
       "4      90.0  \n",
       "\n",
       "[5 rows x 21 columns]"
      ]
     },
     "execution_count": 7,
     "metadata": {},
     "output_type": "execute_result"
    }
   ],
   "source": [
    "loan_themes_by_region_df.head()"
   ]
  },
  {
   "cell_type": "markdown",
   "metadata": {},
   "source": [
    "#### Statistical Summary of the data"
   ]
  },
  {
   "cell_type": "code",
   "execution_count": 8,
   "metadata": {},
   "outputs": [
    {
     "name": "stdout",
     "output_type": "stream",
     "text": [
      "<class 'pandas.core.frame.DataFrame'>\n",
      "RangeIndex: 671205 entries, 0 to 671204\n",
      "Data columns (total 20 columns):\n",
      " #   Column              Non-Null Count   Dtype  \n",
      "---  ------              --------------   -----  \n",
      " 0   id                  671205 non-null  int64  \n",
      " 1   funded_amount       671205 non-null  float64\n",
      " 2   loan_amount         671205 non-null  float64\n",
      " 3   activity            671205 non-null  object \n",
      " 4   sector              671205 non-null  object \n",
      " 5   use                 666973 non-null  object \n",
      " 6   country_code        671197 non-null  object \n",
      " 7   country             671205 non-null  object \n",
      " 8   region              614405 non-null  object \n",
      " 9   currency            671205 non-null  object \n",
      " 10  partner_id          657698 non-null  float64\n",
      " 11  posted_time         671205 non-null  object \n",
      " 12  disbursed_time      668809 non-null  object \n",
      " 13  funded_time         622874 non-null  object \n",
      " 14  term_in_months      671205 non-null  float64\n",
      " 15  lender_count        671205 non-null  int64  \n",
      " 16  tags                499789 non-null  object \n",
      " 17  borrower_genders    666984 non-null  object \n",
      " 18  repayment_interval  671205 non-null  object \n",
      " 19  date                671205 non-null  object \n",
      "dtypes: float64(4), int64(2), object(14)\n",
      "memory usage: 102.4+ MB\n"
     ]
    }
   ],
   "source": [
    "loan_df.info()"
   ]
  },
  {
   "cell_type": "code",
   "execution_count": 9,
   "metadata": {},
   "outputs": [
    {
     "data": {
      "text/html": [
       "<div>\n",
       "<style scoped>\n",
       "    .dataframe tbody tr th:only-of-type {\n",
       "        vertical-align: middle;\n",
       "    }\n",
       "\n",
       "    .dataframe tbody tr th {\n",
       "        vertical-align: top;\n",
       "    }\n",
       "\n",
       "    .dataframe thead th {\n",
       "        text-align: right;\n",
       "    }\n",
       "</style>\n",
       "<table border=\"1\" class=\"dataframe\">\n",
       "  <thead>\n",
       "    <tr style=\"text-align: right;\">\n",
       "      <th></th>\n",
       "      <th>id</th>\n",
       "      <th>funded_amount</th>\n",
       "      <th>loan_amount</th>\n",
       "      <th>partner_id</th>\n",
       "      <th>term_in_months</th>\n",
       "      <th>lender_count</th>\n",
       "    </tr>\n",
       "  </thead>\n",
       "  <tbody>\n",
       "    <tr>\n",
       "      <th>count</th>\n",
       "      <td>6.712050e+05</td>\n",
       "      <td>671205.000000</td>\n",
       "      <td>671205.000000</td>\n",
       "      <td>657698.000000</td>\n",
       "      <td>671205.000000</td>\n",
       "      <td>671205.000000</td>\n",
       "    </tr>\n",
       "    <tr>\n",
       "      <th>mean</th>\n",
       "      <td>9.932486e+05</td>\n",
       "      <td>785.995061</td>\n",
       "      <td>842.397107</td>\n",
       "      <td>178.199616</td>\n",
       "      <td>13.739022</td>\n",
       "      <td>20.590922</td>\n",
       "    </tr>\n",
       "    <tr>\n",
       "      <th>std</th>\n",
       "      <td>1.966113e+05</td>\n",
       "      <td>1130.398941</td>\n",
       "      <td>1198.660073</td>\n",
       "      <td>94.247581</td>\n",
       "      <td>8.598919</td>\n",
       "      <td>28.459551</td>\n",
       "    </tr>\n",
       "    <tr>\n",
       "      <th>min</th>\n",
       "      <td>6.530470e+05</td>\n",
       "      <td>0.000000</td>\n",
       "      <td>25.000000</td>\n",
       "      <td>9.000000</td>\n",
       "      <td>1.000000</td>\n",
       "      <td>0.000000</td>\n",
       "    </tr>\n",
       "    <tr>\n",
       "      <th>25%</th>\n",
       "      <td>8.230720e+05</td>\n",
       "      <td>250.000000</td>\n",
       "      <td>275.000000</td>\n",
       "      <td>126.000000</td>\n",
       "      <td>8.000000</td>\n",
       "      <td>7.000000</td>\n",
       "    </tr>\n",
       "    <tr>\n",
       "      <th>50%</th>\n",
       "      <td>9.927800e+05</td>\n",
       "      <td>450.000000</td>\n",
       "      <td>500.000000</td>\n",
       "      <td>145.000000</td>\n",
       "      <td>13.000000</td>\n",
       "      <td>13.000000</td>\n",
       "    </tr>\n",
       "    <tr>\n",
       "      <th>75%</th>\n",
       "      <td>1.163653e+06</td>\n",
       "      <td>900.000000</td>\n",
       "      <td>1000.000000</td>\n",
       "      <td>204.000000</td>\n",
       "      <td>14.000000</td>\n",
       "      <td>24.000000</td>\n",
       "    </tr>\n",
       "    <tr>\n",
       "      <th>max</th>\n",
       "      <td>1.340339e+06</td>\n",
       "      <td>100000.000000</td>\n",
       "      <td>100000.000000</td>\n",
       "      <td>536.000000</td>\n",
       "      <td>158.000000</td>\n",
       "      <td>2986.000000</td>\n",
       "    </tr>\n",
       "  </tbody>\n",
       "</table>\n",
       "</div>"
      ],
      "text/plain": [
       "                 id  funded_amount    loan_amount     partner_id  \\\n",
       "count  6.712050e+05  671205.000000  671205.000000  657698.000000   \n",
       "mean   9.932486e+05     785.995061     842.397107     178.199616   \n",
       "std    1.966113e+05    1130.398941    1198.660073      94.247581   \n",
       "min    6.530470e+05       0.000000      25.000000       9.000000   \n",
       "25%    8.230720e+05     250.000000     275.000000     126.000000   \n",
       "50%    9.927800e+05     450.000000     500.000000     145.000000   \n",
       "75%    1.163653e+06     900.000000    1000.000000     204.000000   \n",
       "max    1.340339e+06  100000.000000  100000.000000     536.000000   \n",
       "\n",
       "       term_in_months   lender_count  \n",
       "count   671205.000000  671205.000000  \n",
       "mean        13.739022      20.590922  \n",
       "std          8.598919      28.459551  \n",
       "min          1.000000       0.000000  \n",
       "25%          8.000000       7.000000  \n",
       "50%         13.000000      13.000000  \n",
       "75%         14.000000      24.000000  \n",
       "max        158.000000    2986.000000  "
      ]
     },
     "execution_count": 9,
     "metadata": {},
     "output_type": "execute_result"
    }
   ],
   "source": [
    "loan_df.describe()"
   ]
  },
  {
   "cell_type": "code",
   "execution_count": 10,
   "metadata": {},
   "outputs": [
    {
     "data": {
      "text/html": [
       "<div>\n",
       "<style scoped>\n",
       "    .dataframe tbody tr th:only-of-type {\n",
       "        vertical-align: middle;\n",
       "    }\n",
       "\n",
       "    .dataframe tbody tr th {\n",
       "        vertical-align: top;\n",
       "    }\n",
       "\n",
       "    .dataframe thead th {\n",
       "        text-align: right;\n",
       "    }\n",
       "</style>\n",
       "<table border=\"1\" class=\"dataframe\">\n",
       "  <thead>\n",
       "    <tr style=\"text-align: right;\">\n",
       "      <th></th>\n",
       "      <th>activity</th>\n",
       "      <th>sector</th>\n",
       "      <th>use</th>\n",
       "      <th>country_code</th>\n",
       "      <th>country</th>\n",
       "      <th>region</th>\n",
       "      <th>currency</th>\n",
       "      <th>posted_time</th>\n",
       "      <th>disbursed_time</th>\n",
       "      <th>funded_time</th>\n",
       "      <th>tags</th>\n",
       "      <th>borrower_genders</th>\n",
       "      <th>repayment_interval</th>\n",
       "      <th>date</th>\n",
       "    </tr>\n",
       "  </thead>\n",
       "  <tbody>\n",
       "    <tr>\n",
       "      <th>count</th>\n",
       "      <td>671205</td>\n",
       "      <td>671205</td>\n",
       "      <td>666973</td>\n",
       "      <td>671197</td>\n",
       "      <td>671205</td>\n",
       "      <td>614405</td>\n",
       "      <td>671205</td>\n",
       "      <td>671205</td>\n",
       "      <td>668809</td>\n",
       "      <td>622874</td>\n",
       "      <td>499789</td>\n",
       "      <td>666984</td>\n",
       "      <td>671205</td>\n",
       "      <td>671205</td>\n",
       "    </tr>\n",
       "    <tr>\n",
       "      <th>unique</th>\n",
       "      <td>163</td>\n",
       "      <td>15</td>\n",
       "      <td>424912</td>\n",
       "      <td>86</td>\n",
       "      <td>87</td>\n",
       "      <td>12695</td>\n",
       "      <td>67</td>\n",
       "      <td>667399</td>\n",
       "      <td>5719</td>\n",
       "      <td>498007</td>\n",
       "      <td>86719</td>\n",
       "      <td>11298</td>\n",
       "      <td>4</td>\n",
       "      <td>1298</td>\n",
       "    </tr>\n",
       "    <tr>\n",
       "      <th>top</th>\n",
       "      <td>Farming</td>\n",
       "      <td>Agriculture</td>\n",
       "      <td>to buy a water filter to provide safe drinking...</td>\n",
       "      <td>PH</td>\n",
       "      <td>Philippines</td>\n",
       "      <td>Kaduna</td>\n",
       "      <td>PHP</td>\n",
       "      <td>2017-05-15 00:00:00+00:00</td>\n",
       "      <td>2017-02-01 08:00:00+00:00</td>\n",
       "      <td>2016-09-21 13:03:24+00:00</td>\n",
       "      <td>user_favorite</td>\n",
       "      <td>female</td>\n",
       "      <td>monthly</td>\n",
       "      <td>2017-03-20</td>\n",
       "    </tr>\n",
       "    <tr>\n",
       "      <th>freq</th>\n",
       "      <td>72955</td>\n",
       "      <td>180302</td>\n",
       "      <td>5217</td>\n",
       "      <td>160441</td>\n",
       "      <td>160441</td>\n",
       "      <td>10000</td>\n",
       "      <td>160440</td>\n",
       "      <td>25</td>\n",
       "      <td>2800</td>\n",
       "      <td>33</td>\n",
       "      <td>27088</td>\n",
       "      <td>426502</td>\n",
       "      <td>342717</td>\n",
       "      <td>1308</td>\n",
       "    </tr>\n",
       "  </tbody>\n",
       "</table>\n",
       "</div>"
      ],
      "text/plain": [
       "       activity       sector  \\\n",
       "count    671205       671205   \n",
       "unique      163           15   \n",
       "top     Farming  Agriculture   \n",
       "freq      72955       180302   \n",
       "\n",
       "                                                      use country_code  \\\n",
       "count                                              666973       671197   \n",
       "unique                                             424912           86   \n",
       "top     to buy a water filter to provide safe drinking...           PH   \n",
       "freq                                                 5217       160441   \n",
       "\n",
       "            country  region currency                posted_time  \\\n",
       "count        671205  614405   671205                     671205   \n",
       "unique           87   12695       67                     667399   \n",
       "top     Philippines  Kaduna      PHP  2017-05-15 00:00:00+00:00   \n",
       "freq         160441   10000   160440                         25   \n",
       "\n",
       "                   disbursed_time                funded_time           tags  \\\n",
       "count                      668809                     622874         499789   \n",
       "unique                       5719                     498007          86719   \n",
       "top     2017-02-01 08:00:00+00:00  2016-09-21 13:03:24+00:00  user_favorite   \n",
       "freq                         2800                         33          27088   \n",
       "\n",
       "       borrower_genders repayment_interval        date  \n",
       "count            666984             671205      671205  \n",
       "unique            11298                  4        1298  \n",
       "top              female            monthly  2017-03-20  \n",
       "freq             426502             342717        1308  "
      ]
     },
     "execution_count": 10,
     "metadata": {},
     "output_type": "execute_result"
    }
   ],
   "source": [
    "loan_df.describe(include=[\"O\"])"
   ]
  },
  {
   "cell_type": "markdown",
   "metadata": {},
   "source": [
    "### Data Preparation"
   ]
  },
  {
   "cell_type": "markdown",
   "metadata": {},
   "source": [
    "#### Check for Null Values"
   ]
  },
  {
   "cell_type": "code",
   "execution_count": 11,
   "metadata": {},
   "outputs": [
    {
     "data": {
      "text/plain": [
       "id                         0\n",
       "funded_amount              0\n",
       "loan_amount                0\n",
       "activity                   0\n",
       "sector                     0\n",
       "use                     4232\n",
       "country_code               8\n",
       "country                    0\n",
       "region                 56800\n",
       "currency                   0\n",
       "partner_id             13507\n",
       "posted_time                0\n",
       "disbursed_time          2396\n",
       "funded_time            48331\n",
       "term_in_months             0\n",
       "lender_count               0\n",
       "tags                  171416\n",
       "borrower_genders        4221\n",
       "repayment_interval         0\n",
       "date                       0\n",
       "dtype: int64"
      ]
     },
     "execution_count": 11,
     "metadata": {},
     "output_type": "execute_result"
    }
   ],
   "source": [
    "loan_df.isna().sum()"
   ]
  },
  {
   "cell_type": "markdown",
   "metadata": {},
   "source": [
    "> The dataset is quite huge, therefore I need to remove the null values."
   ]
  },
  {
   "cell_type": "code",
   "execution_count": 28,
   "metadata": {},
   "outputs": [
    {
     "data": {
      "text/plain": [
       "id                    0\n",
       "funded_amount         0\n",
       "loan_amount           0\n",
       "activity              0\n",
       "sector                0\n",
       "use                   0\n",
       "country_code          0\n",
       "country               0\n",
       "region                0\n",
       "currency              0\n",
       "partner_id            0\n",
       "posted_time           0\n",
       "disbursed_time        0\n",
       "funded_time           0\n",
       "term_in_months        0\n",
       "lender_count          0\n",
       "tags                  0\n",
       "borrower_genders      0\n",
       "repayment_interval    0\n",
       "date                  0\n",
       "clean_gender          0\n",
       "dtype: int64"
      ]
     },
     "execution_count": 28,
     "metadata": {},
     "output_type": "execute_result"
    }
   ],
   "source": [
    "loan_df.dropna(inplace=True)\n",
    "loan_df.isna().sum()"
   ]
  },
  {
   "cell_type": "code",
   "execution_count": 29,
   "metadata": {},
   "outputs": [
    {
     "data": {
      "text/plain": [
       "(423081, 21)"
      ]
     },
     "execution_count": 29,
     "metadata": {},
     "output_type": "execute_result"
    }
   ],
   "source": [
    "loan_df.shape"
   ]
  },
  {
   "cell_type": "code",
   "execution_count": 30,
   "metadata": {},
   "outputs": [
    {
     "data": {
      "text/plain": [
       "LocationName    0\n",
       "ISO             0\n",
       "country         0\n",
       "region          0\n",
       "world_region    0\n",
       "MPI             0\n",
       "geo             0\n",
       "lat             0\n",
       "lon             0\n",
       "dtype: int64"
      ]
     },
     "execution_count": 30,
     "metadata": {},
     "output_type": "execute_result"
    }
   ],
   "source": [
    "mpi_region_locations_df.dropna(inplace=True)\n",
    "mpi_region_locations_df.isna().sum()"
   ]
  },
  {
   "cell_type": "code",
   "execution_count": 31,
   "metadata": {},
   "outputs": [
    {
     "data": {
      "text/plain": [
       "id                 0\n",
       "Loan Theme ID      0\n",
       "Loan Theme Type    0\n",
       "Partner ID         0\n",
       "dtype: int64"
      ]
     },
     "execution_count": 31,
     "metadata": {},
     "output_type": "execute_result"
    }
   ],
   "source": [
    "loan_theme_ids_df.dropna(inplace=True)\n",
    "loan_theme_ids_df.isna().sum()"
   ]
  },
  {
   "cell_type": "code",
   "execution_count": 32,
   "metadata": {},
   "outputs": [
    {
     "data": {
      "text/plain": [
       "Partner ID            0\n",
       "Field Partner Name    0\n",
       "sector                0\n",
       "Loan Theme ID         0\n",
       "Loan Theme Type       0\n",
       "country               0\n",
       "forkiva               0\n",
       "region                0\n",
       "geocode_old           0\n",
       "ISO                   0\n",
       "number                0\n",
       "amount                0\n",
       "LocationName          0\n",
       "geocode               0\n",
       "names                 0\n",
       "geo                   0\n",
       "lat                   0\n",
       "lon                   0\n",
       "mpi_region            0\n",
       "mpi_geo               0\n",
       "rural_pct             0\n",
       "dtype: int64"
      ]
     },
     "execution_count": 32,
     "metadata": {},
     "output_type": "execute_result"
    }
   ],
   "source": [
    "loan_themes_by_region_df.dropna(inplace=True)\n",
    "loan_themes_by_region_df.isna().sum()"
   ]
  },
  {
   "cell_type": "markdown",
   "metadata": {},
   "source": [
    "#### Check for duplicated Values"
   ]
  },
  {
   "cell_type": "code",
   "execution_count": 15,
   "metadata": {},
   "outputs": [
    {
     "data": {
      "text/plain": [
       "0"
      ]
     },
     "execution_count": 15,
     "metadata": {},
     "output_type": "execute_result"
    }
   ],
   "source": [
    "loan_df.duplicated().sum()"
   ]
  },
  {
   "cell_type": "code",
   "execution_count": 16,
   "metadata": {},
   "outputs": [
    {
     "data": {
      "text/plain": [
       "1763"
      ]
     },
     "execution_count": 16,
     "metadata": {},
     "output_type": "execute_result"
    }
   ],
   "source": [
    "mpi_region_locations_df.duplicated().sum()"
   ]
  },
  {
   "cell_type": "code",
   "execution_count": 34,
   "metadata": {},
   "outputs": [
    {
     "data": {
      "text/plain": [
       "0"
      ]
     },
     "execution_count": 34,
     "metadata": {},
     "output_type": "execute_result"
    }
   ],
   "source": [
    "mpi_region_locations_df.drop_duplicates(inplace=True)\n",
    "mpi_region_locations_df.duplicated().sum()"
   ]
  },
  {
   "cell_type": "code",
   "execution_count": 17,
   "metadata": {},
   "outputs": [
    {
     "data": {
      "text/plain": [
       "0"
      ]
     },
     "execution_count": 17,
     "metadata": {},
     "output_type": "execute_result"
    }
   ],
   "source": [
    "loan_theme_ids_df.duplicated().sum()"
   ]
  },
  {
   "cell_type": "code",
   "execution_count": 18,
   "metadata": {},
   "outputs": [
    {
     "data": {
      "text/plain": [
       "0"
      ]
     },
     "execution_count": 18,
     "metadata": {},
     "output_type": "execute_result"
    }
   ],
   "source": [
    "loan_themes_by_region_df.duplicated().sum()"
   ]
  },
  {
   "cell_type": "markdown",
   "metadata": {},
   "source": [
    "#### Unique values"
   ]
  },
  {
   "cell_type": "code",
   "execution_count": 19,
   "metadata": {},
   "outputs": [
    {
     "data": {
      "text/plain": [
       "{'id': 671205,\n",
       " 'funded_amount': 610,\n",
       " 'loan_amount': 479,\n",
       " 'activity': 163,\n",
       " 'sector': 15,\n",
       " 'use': 424913,\n",
       " 'country_code': 87,\n",
       " 'country': 87,\n",
       " 'region': 12696,\n",
       " 'currency': 67,\n",
       " 'partner_id': 367,\n",
       " 'posted_time': 667399,\n",
       " 'disbursed_time': 5720,\n",
       " 'funded_time': 498008,\n",
       " 'term_in_months': 148,\n",
       " 'lender_count': 503,\n",
       " 'tags': 86720,\n",
       " 'borrower_genders': 11299,\n",
       " 'repayment_interval': 4,\n",
       " 'date': 1298}"
      ]
     },
     "execution_count": 19,
     "metadata": {},
     "output_type": "execute_result"
    }
   ],
   "source": [
    "{column: len(loan_df[column].unique()) for column in loan_df.columns} ## To show the unigue values For all columns"
   ]
  },
  {
   "cell_type": "code",
   "execution_count": 20,
   "metadata": {},
   "outputs": [
    {
     "data": {
      "text/plain": [
       "{'LocationName': 985,\n",
       " 'ISO': 103,\n",
       " 'country': 103,\n",
       " 'region': 929,\n",
       " 'world_region': 7,\n",
       " 'MPI': 453,\n",
       " 'geo': 881,\n",
       " 'lat': 881,\n",
       " 'lon': 788}"
      ]
     },
     "execution_count": 20,
     "metadata": {},
     "output_type": "execute_result"
    }
   ],
   "source": [
    "{column: len(mpi_region_locations_df[column].unique()) for column in mpi_region_locations_df.columns} ## To show the unigue values For all columns"
   ]
  },
  {
   "cell_type": "code",
   "execution_count": 21,
   "metadata": {},
   "outputs": [
    {
     "data": {
      "text/plain": [
       "{'id': 779092, 'Loan Theme ID': 957, 'Loan Theme Type': 204, 'Partner ID': 385}"
      ]
     },
     "execution_count": 21,
     "metadata": {},
     "output_type": "execute_result"
    }
   ],
   "source": [
    "{column: len(loan_theme_ids_df[column].unique()) for column in loan_theme_ids_df.columns} ## To show the unigue values For all columns"
   ]
  },
  {
   "cell_type": "code",
   "execution_count": 22,
   "metadata": {},
   "outputs": [
    {
     "data": {
      "text/plain": [
       "{'Partner ID': 302,\n",
       " 'Field Partner Name': 302,\n",
       " 'sector': 11,\n",
       " 'Loan Theme ID': 718,\n",
       " 'Loan Theme Type': 170,\n",
       " 'country': 79,\n",
       " 'forkiva': 2,\n",
       " 'region': 9526,\n",
       " 'geocode_old': 341,\n",
       " 'ISO': 78,\n",
       " 'number': 638,\n",
       " 'amount': 2532,\n",
       " 'LocationName': 9561,\n",
       " 'geocode': 6558,\n",
       " 'names': 6276,\n",
       " 'geo': 6558,\n",
       " 'lat': 6551,\n",
       " 'lon': 6016,\n",
       " 'mpi_region': 393,\n",
       " 'mpi_geo': 336,\n",
       " 'rural_pct': 57}"
      ]
     },
     "execution_count": 22,
     "metadata": {},
     "output_type": "execute_result"
    }
   ],
   "source": [
    "{column: len(loan_themes_by_region_df[column].unique()) for column in loan_themes_by_region_df.columns} ## To show the unigue values For all columns"
   ]
  },
  {
   "cell_type": "markdown",
   "metadata": {},
   "source": [
    "#### Clean up the gender column"
   ]
  },
  {
   "cell_type": "code",
   "execution_count": 25,
   "metadata": {},
   "outputs": [],
   "source": [
    "# Clean up the gender column\n",
    "def clean_gender(gender):\n",
    "    gender = str(gender)\n",
    "    if gender.startswith('f'):\n",
    "        gender = 'female'\n",
    "    else:\n",
    "        gender = 'male'\n",
    "    return gender"
   ]
  },
  {
   "cell_type": "code",
   "execution_count": 35,
   "metadata": {},
   "outputs": [
    {
     "data": {
      "text/html": [
       "<div>\n",
       "<style scoped>\n",
       "    .dataframe tbody tr th:only-of-type {\n",
       "        vertical-align: middle;\n",
       "    }\n",
       "\n",
       "    .dataframe tbody tr th {\n",
       "        vertical-align: top;\n",
       "    }\n",
       "\n",
       "    .dataframe thead th {\n",
       "        text-align: right;\n",
       "    }\n",
       "</style>\n",
       "<table border=\"1\" class=\"dataframe\">\n",
       "  <thead>\n",
       "    <tr style=\"text-align: right;\">\n",
       "      <th></th>\n",
       "      <th>id</th>\n",
       "      <th>funded_amount</th>\n",
       "      <th>loan_amount</th>\n",
       "      <th>activity</th>\n",
       "      <th>sector</th>\n",
       "      <th>use</th>\n",
       "      <th>country_code</th>\n",
       "      <th>country</th>\n",
       "      <th>region</th>\n",
       "      <th>currency</th>\n",
       "      <th>...</th>\n",
       "      <th>posted_time</th>\n",
       "      <th>disbursed_time</th>\n",
       "      <th>funded_time</th>\n",
       "      <th>term_in_months</th>\n",
       "      <th>lender_count</th>\n",
       "      <th>tags</th>\n",
       "      <th>borrower_genders</th>\n",
       "      <th>repayment_interval</th>\n",
       "      <th>date</th>\n",
       "      <th>clean_gender</th>\n",
       "    </tr>\n",
       "  </thead>\n",
       "  <tbody>\n",
       "    <tr>\n",
       "      <th>2</th>\n",
       "      <td>653068</td>\n",
       "      <td>150.0</td>\n",
       "      <td>150.0</td>\n",
       "      <td>Transportation</td>\n",
       "      <td>Transportation</td>\n",
       "      <td>To repair their old cycle-van and buy another ...</td>\n",
       "      <td>IN</td>\n",
       "      <td>India</td>\n",
       "      <td>Maynaguri</td>\n",
       "      <td>INR</td>\n",
       "      <td>...</td>\n",
       "      <td>2014-01-01 09:58:07+00:00</td>\n",
       "      <td>2013-12-17 08:00:00+00:00</td>\n",
       "      <td>2014-01-01 16:01:36+00:00</td>\n",
       "      <td>43.0</td>\n",
       "      <td>6</td>\n",
       "      <td>user_favorite, user_favorite</td>\n",
       "      <td>female</td>\n",
       "      <td>bullet</td>\n",
       "      <td>2014-01-01</td>\n",
       "      <td>female</td>\n",
       "    </tr>\n",
       "    <tr>\n",
       "      <th>6</th>\n",
       "      <td>653067</td>\n",
       "      <td>200.0</td>\n",
       "      <td>200.0</td>\n",
       "      <td>Dairy</td>\n",
       "      <td>Agriculture</td>\n",
       "      <td>To purchase a dairy cow and start a milk produ...</td>\n",
       "      <td>IN</td>\n",
       "      <td>India</td>\n",
       "      <td>Maynaguri</td>\n",
       "      <td>INR</td>\n",
       "      <td>...</td>\n",
       "      <td>2014-01-01 09:51:02+00:00</td>\n",
       "      <td>2013-12-16 08:00:00+00:00</td>\n",
       "      <td>2014-01-01 17:18:09+00:00</td>\n",
       "      <td>43.0</td>\n",
       "      <td>8</td>\n",
       "      <td>user_favorite, user_favorite</td>\n",
       "      <td>female</td>\n",
       "      <td>bullet</td>\n",
       "      <td>2014-01-01</td>\n",
       "      <td>female</td>\n",
       "    </tr>\n",
       "    <tr>\n",
       "      <th>7</th>\n",
       "      <td>653078</td>\n",
       "      <td>400.0</td>\n",
       "      <td>400.0</td>\n",
       "      <td>Beauty Salon</td>\n",
       "      <td>Services</td>\n",
       "      <td>to buy more hair and skin care products.</td>\n",
       "      <td>PK</td>\n",
       "      <td>Pakistan</td>\n",
       "      <td>Ellahabad</td>\n",
       "      <td>PKR</td>\n",
       "      <td>...</td>\n",
       "      <td>2014-01-01 11:46:01+00:00</td>\n",
       "      <td>2013-12-20 08:00:00+00:00</td>\n",
       "      <td>2014-01-10 18:18:44+00:00</td>\n",
       "      <td>14.0</td>\n",
       "      <td>8</td>\n",
       "      <td>#Elderly, #Woman Owned Biz</td>\n",
       "      <td>female</td>\n",
       "      <td>monthly</td>\n",
       "      <td>2014-01-01</td>\n",
       "      <td>female</td>\n",
       "    </tr>\n",
       "  </tbody>\n",
       "</table>\n",
       "<p>3 rows × 21 columns</p>\n",
       "</div>"
      ],
      "text/plain": [
       "       id  funded_amount  loan_amount        activity          sector  \\\n",
       "2  653068          150.0        150.0  Transportation  Transportation   \n",
       "6  653067          200.0        200.0           Dairy     Agriculture   \n",
       "7  653078          400.0        400.0    Beauty Salon        Services   \n",
       "\n",
       "                                                 use country_code   country  \\\n",
       "2  To repair their old cycle-van and buy another ...           IN     India   \n",
       "6  To purchase a dairy cow and start a milk produ...           IN     India   \n",
       "7         to buy more hair and skin care products.             PK  Pakistan   \n",
       "\n",
       "      region currency  ...                posted_time  \\\n",
       "2  Maynaguri      INR  ...  2014-01-01 09:58:07+00:00   \n",
       "6  Maynaguri      INR  ...  2014-01-01 09:51:02+00:00   \n",
       "7  Ellahabad      PKR  ...  2014-01-01 11:46:01+00:00   \n",
       "\n",
       "              disbursed_time                funded_time term_in_months  \\\n",
       "2  2013-12-17 08:00:00+00:00  2014-01-01 16:01:36+00:00           43.0   \n",
       "6  2013-12-16 08:00:00+00:00  2014-01-01 17:18:09+00:00           43.0   \n",
       "7  2013-12-20 08:00:00+00:00  2014-01-10 18:18:44+00:00           14.0   \n",
       "\n",
       "   lender_count                          tags borrower_genders  \\\n",
       "2             6  user_favorite, user_favorite           female   \n",
       "6             8  user_favorite, user_favorite           female   \n",
       "7             8    #Elderly, #Woman Owned Biz           female   \n",
       "\n",
       "  repayment_interval        date clean_gender  \n",
       "2             bullet  2014-01-01       female  \n",
       "6             bullet  2014-01-01       female  \n",
       "7            monthly  2014-01-01       female  \n",
       "\n",
       "[3 rows x 21 columns]"
      ]
     },
     "execution_count": 35,
     "metadata": {},
     "output_type": "execute_result"
    }
   ],
   "source": [
    "loan_df['clean_gender'] = loan_df['borrower_genders'].apply(clean_gender)\n",
    "loan_df.head(3)"
   ]
  },
  {
   "cell_type": "markdown",
   "metadata": {},
   "source": [
    "#### Remove Outliers"
   ]
  },
  {
   "cell_type": "code",
   "execution_count": null,
   "metadata": {},
   "outputs": [],
   "source": [
    "num_cols = loan_df.select_dtypes(['int64', 'float64'])\n",
    "num_cols"
   ]
  },
  {
   "cell_type": "code",
   "execution_count": null,
   "metadata": {},
   "outputs": [],
   "source": [
    "for col in num_cols:\n",
    "    z = np.abs(stats.zscore(loan_df[col]))\n",
    "\n",
    "    # Identify outliers as variables with a z-score greater than 3\n",
    "    threshold = 3\n",
    "    outliers = loan_df[z > threshold]\n",
    "\n",
    "print(outliers)"
   ]
  },
  {
   "cell_type": "code",
   "execution_count": null,
   "metadata": {},
   "outputs": [],
   "source": [
    "# Drop outliers\n",
    "loan_df = loan_df.drop(outliers.index)\n",
    "loan_df.head()"
   ]
  },
  {
   "cell_type": "markdown",
   "metadata": {},
   "source": [
    "### Exploratory Data Analysis"
   ]
  },
  {
   "cell_type": "markdown",
   "metadata": {},
   "source": [
    "#### Disbursment Rate"
   ]
  },
  {
   "cell_type": "code",
   "execution_count": 23,
   "metadata": {},
   "outputs": [
    {
     "data": {
      "text/plain": [
       "11298"
      ]
     },
     "execution_count": 23,
     "metadata": {},
     "output_type": "execute_result"
    }
   ],
   "source": [
    "disbursment_rate = "
   ]
  },
  {
   "cell_type": "code",
   "execution_count": null,
   "metadata": {},
   "outputs": [],
   "source": []
  }
 ],
 "metadata": {
  "kernelspec": {
   "display_name": "venv",
   "language": "python",
   "name": "python3"
  },
  "language_info": {
   "codemirror_mode": {
    "name": "ipython",
    "version": 3
   },
   "file_extension": ".py",
   "mimetype": "text/x-python",
   "name": "python",
   "nbconvert_exporter": "python",
   "pygments_lexer": "ipython3",
   "version": "3.10.12"
  }
 },
 "nbformat": 4,
 "nbformat_minor": 2
}
